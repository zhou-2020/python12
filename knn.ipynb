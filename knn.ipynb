{
 "cells": [
  {
   "cell_type": "markdown",
   "metadata": {},
   "source": [
    "# 用sklearn中的KNN模型完成分类问题"
   ]
  },
  {
   "cell_type": "markdown",
   "metadata": {},
   "source": [
    "## 一、数据的预处理"
   ]
  },
  {
   "cell_type": "markdown",
   "metadata": {},
   "source": [
    "通过numpy和pandas对csv文件进行读取，创建数据集X、目标y，并保存为npy的格式。"
   ]
  },
  {
   "cell_type": "code",
   "execution_count": 1,
   "metadata": {},
   "outputs": [
    {
     "data": {
      "text/html": [
       "<div>\n",
       "<style scoped>\n",
       "    .dataframe tbody tr th:only-of-type {\n",
       "        vertical-align: middle;\n",
       "    }\n",
       "\n",
       "    .dataframe tbody tr th {\n",
       "        vertical-align: top;\n",
       "    }\n",
       "\n",
       "    .dataframe thead th {\n",
       "        text-align: right;\n",
       "    }\n",
       "</style>\n",
       "<table border=\"1\" class=\"dataframe\">\n",
       "  <thead>\n",
       "    <tr style=\"text-align: right;\">\n",
       "      <th></th>\n",
       "      <th>Id</th>\n",
       "      <th>SepalLength[cm]</th>\n",
       "      <th>SepalWidth[cm]</th>\n",
       "      <th>PetalLength[cm]</th>\n",
       "      <th>PetalWidth[cm]</th>\n",
       "      <th>Species</th>\n",
       "    </tr>\n",
       "  </thead>\n",
       "  <tbody>\n",
       "    <tr>\n",
       "      <td>0</td>\n",
       "      <td>1</td>\n",
       "      <td>5.1</td>\n",
       "      <td>3.5</td>\n",
       "      <td>1.4</td>\n",
       "      <td>0.2</td>\n",
       "      <td>0</td>\n",
       "    </tr>\n",
       "    <tr>\n",
       "      <td>1</td>\n",
       "      <td>2</td>\n",
       "      <td>4.9</td>\n",
       "      <td>3.0</td>\n",
       "      <td>1.4</td>\n",
       "      <td>0.2</td>\n",
       "      <td>0</td>\n",
       "    </tr>\n",
       "    <tr>\n",
       "      <td>2</td>\n",
       "      <td>3</td>\n",
       "      <td>4.7</td>\n",
       "      <td>3.2</td>\n",
       "      <td>1.3</td>\n",
       "      <td>0.2</td>\n",
       "      <td>0</td>\n",
       "    </tr>\n",
       "    <tr>\n",
       "      <td>3</td>\n",
       "      <td>4</td>\n",
       "      <td>4.6</td>\n",
       "      <td>3.1</td>\n",
       "      <td>1.5</td>\n",
       "      <td>0.2</td>\n",
       "      <td>0</td>\n",
       "    </tr>\n",
       "    <tr>\n",
       "      <td>4</td>\n",
       "      <td>5</td>\n",
       "      <td>5.0</td>\n",
       "      <td>3.6</td>\n",
       "      <td>1.4</td>\n",
       "      <td>0.2</td>\n",
       "      <td>0</td>\n",
       "    </tr>\n",
       "  </tbody>\n",
       "</table>\n",
       "</div>"
      ],
      "text/plain": [
       "   Id  SepalLength[cm]  SepalWidth[cm]  PetalLength[cm]  PetalWidth[cm]  \\\n",
       "0   1              5.1             3.5              1.4             0.2   \n",
       "1   2              4.9             3.0              1.4             0.2   \n",
       "2   3              4.7             3.2              1.3             0.2   \n",
       "3   4              4.6             3.1              1.5             0.2   \n",
       "4   5              5.0             3.6              1.4             0.2   \n",
       "\n",
       "   Species  \n",
       "0        0  \n",
       "1        0  \n",
       "2        0  \n",
       "3        0  \n",
       "4        0  "
      ]
     },
     "execution_count": 1,
     "metadata": {},
     "output_type": "execute_result"
    }
   ],
   "source": [
    "import numpy as np\n",
    "import pandas as pd\n",
    "\n",
    "# # # 用pandas读取iris.csv，并对鸢尾花的分类名称编码为0,1,2\n",
    "df = pd.read_csv(\"iris.csv\")\n",
    "d = {'Iris-setosa':0, 'Iris-versicolor':1, 'Iris-virginica':2}\n",
    "df['Species'] = df['Species'].map(d)\n",
    "df.head()"
   ]
  },
  {
   "cell_type": "code",
   "execution_count": 2,
   "metadata": {},
   "outputs": [],
   "source": [
    "# # # 将四种特征组合为数据集X,目标为Y\n",
    "data_y = df['Species'].values\n",
    "data_x = df.iloc[:,1:5].values\n",
    "\n",
    "# # # 将X,Y保存为npy格式，便于numpy的读取\n",
    "np.save(\"data_x.npy\",data_x)\n",
    "np.save(\"data_y.npy\",data_y)"
   ]
  },
  {
   "cell_type": "markdown",
   "metadata": {},
   "source": [
    "## 二、模型及测试"
   ]
  },
  {
   "cell_type": "markdown",
   "metadata": {},
   "source": [
    "这部分主要是用sklearn上的模块，搭建机器学习的框架，并进行训练和测试"
   ]
  },
  {
   "cell_type": "code",
   "execution_count": 3,
   "metadata": {
    "scrolled": true
   },
   "outputs": [
    {
     "data": {
      "text/plain": [
       "array([0, 0, 0, 0, 0, 0, 0, 0, 0, 0, 0, 0, 0, 0, 0, 0, 0, 0, 0, 0, 0, 0,\n",
       "       0, 0, 0, 0, 0, 0, 0, 0, 0, 0, 0, 0, 0, 0, 0, 0, 0, 0, 0, 0, 0, 0,\n",
       "       0, 0, 0, 0, 0, 0, 1, 1, 1, 1, 1, 1, 1, 1, 1, 1, 1, 1, 1, 1, 1, 1,\n",
       "       1, 1, 1, 1, 1, 1, 1, 1, 1, 1, 1, 1, 1, 1, 1, 1, 1, 1, 1, 1, 1, 1,\n",
       "       1, 1, 1, 1, 1, 1, 1, 1, 1, 1, 1, 1, 2, 2, 2, 2, 2, 2, 2, 2, 2, 2,\n",
       "       2, 2, 2, 2, 2, 2, 2, 2, 2, 2, 2, 2, 2, 2, 2, 2, 2, 2, 2, 2, 2, 2,\n",
       "       2, 2, 2, 2, 2, 2, 2, 2, 2, 2, 2, 2, 2, 2, 2, 2, 2, 2], dtype=int64)"
      ]
     },
     "execution_count": 3,
     "metadata": {},
     "output_type": "execute_result"
    }
   ],
   "source": [
    "import numpy as np\n",
    "from sklearn.neighbors import KNeighborsClassifier\n",
    "from sklearn.decomposition import PCA\n",
    "from sklearn.preprocessing import StandardScaler\n",
    "from sklearn.model_selection import train_test_split, GridSearchCV\n",
    "from sklearn.feature_selection import SelectKBest, chi2\n",
    "from sklearn.pipeline import Pipeline, FeatureUnion\n",
    "\n",
    "# # # 加载数据集X,Y\n",
    "data_x = np.load(\"data_x.npy\")\n",
    "data_y = np.load(\"data_y.npy\")\n",
    "data_y"
   ]
  },
  {
   "cell_type": "code",
   "execution_count": 4,
   "metadata": {},
   "outputs": [
    {
     "data": {
      "text/plain": [
       "Pipeline(memory=None,\n",
       "     steps=[('features', FeatureUnion(n_jobs=None,\n",
       "       transformer_list=[('pca', PCA(copy=True, iterated_power='auto', n_components=2, random_state=None,\n",
       "  svd_solver='auto', tol=0.0, whiten=False)), ('chi2_select', SelectKBest(k=2, score_func=<function chi2 at 0x0000016FA03701E0>))],\n",
       "       transform...ki',\n",
       "           metric_params=None, n_jobs=None, n_neighbors=5, p=2,\n",
       "           weights='uniform'))])"
      ]
     },
     "execution_count": 4,
     "metadata": {},
     "output_type": "execute_result"
    }
   ],
   "source": [
    "# # # 划分数据集，80%的训练集和20%的测试集\n",
    "X_train, X_test, y_train, y_test = train_test_split(data_x,data_y,test_size=0.2,\n",
    "                                                    shuffle=True,random_state=10,stratify=data_y)\n",
    "\n",
    "# # # 用PCA降维\n",
    "pca = PCA(n_components=2)\n",
    "\n",
    "# # # 对特征进行卡方检验，并选出k个最佳特征\n",
    "selection = SelectKBest(chi2,k=2)\n",
    "\n",
    "# # # 用FeatureUnion对PCA和SelectKBest进行组合（并行处理）\n",
    "combined_features = FeatureUnion([(\"pca\", pca), (\"chi2_select\", selection)])\n",
    "\n",
    "# # # 用Pipeline对combined_features、standard、knn进行组合（串行处理）\n",
    "pipe = Pipeline([(\"features\", combined_features),(\"standard\",StandardScaler()),\n",
    "                 (\"knn\", KNeighborsClassifier())])\n",
    "pipe"
   ]
  },
  {
   "cell_type": "code",
   "execution_count": 5,
   "metadata": {},
   "outputs": [
    {
     "data": {
      "text/plain": [
       "GridSearchCV(cv=10, error_score='raise-deprecating',\n",
       "       estimator=Pipeline(memory=None,\n",
       "     steps=[('features', FeatureUnion(n_jobs=None,\n",
       "       transformer_list=[('pca', PCA(copy=True, iterated_power='auto', n_components=2, random_state=None,\n",
       "  svd_solver='auto', tol=0.0, whiten=False)), ('chi2_select', SelectKBest(k=2, score_func=<function chi2 at 0x0000016FA03701E0>))],\n",
       "       transform...ki',\n",
       "           metric_params=None, n_jobs=None, n_neighbors=5, p=2,\n",
       "           weights='uniform'))]),\n",
       "       fit_params=None, iid='warn', n_jobs=None,\n",
       "       param_grid={'features__pca__n_components': [1, 2, 3], 'features__chi2_select__k': [1, 2], 'knn__n_neighbors': [1, 3, 5], 'knn__p': [1, 2]},\n",
       "       pre_dispatch='2*n_jobs', refit=True, return_train_score='warn',\n",
       "       scoring=None, verbose=0)"
      ]
     },
     "execution_count": 5,
     "metadata": {},
     "output_type": "execute_result"
    }
   ],
   "source": [
    "# # # 网格法搜索超参数,十折交叉验证\n",
    "params = {'features__pca__n_components': [1, 2, 3],\n",
    "          'features__chi2_select__k':[1, 2],\n",
    "          'knn__n_neighbors': [1, 3, 5],\n",
    "          'knn__p': [1, 2]}\n",
    "\n",
    "clf = GridSearchCV(pipe,param_grid=params,cv=10)\n",
    "clf.fit(X_train,y_train)"
   ]
  },
  {
   "cell_type": "code",
   "execution_count": 6,
   "metadata": {},
   "outputs": [
    {
     "name": "stdout",
     "output_type": "stream",
     "text": [
      "0.908 (+/-0.174) for {'features__chi2_select__k': 1, 'features__pca__n_components': 1, 'knn__n_neighbors': 1, 'knn__p': 1}\n",
      "0.908 (+/-0.174) for {'features__chi2_select__k': 1, 'features__pca__n_components': 1, 'knn__n_neighbors': 1, 'knn__p': 2}\n",
      "0.933 (+/-0.163) for {'features__chi2_select__k': 1, 'features__pca__n_components': 1, 'knn__n_neighbors': 3, 'knn__p': 1}\n",
      "0.933 (+/-0.163) for {'features__chi2_select__k': 1, 'features__pca__n_components': 1, 'knn__n_neighbors': 3, 'knn__p': 2}\n",
      "0.942 (+/-0.167) for {'features__chi2_select__k': 1, 'features__pca__n_components': 1, 'knn__n_neighbors': 5, 'knn__p': 1}\n",
      "0.942 (+/-0.167) for {'features__chi2_select__k': 1, 'features__pca__n_components': 1, 'knn__n_neighbors': 5, 'knn__p': 2}\n",
      "0.933 (+/-0.125) for {'features__chi2_select__k': 1, 'features__pca__n_components': 2, 'knn__n_neighbors': 1, 'knn__p': 1}\n",
      "0.933 (+/-0.125) for {'features__chi2_select__k': 1, 'features__pca__n_components': 2, 'knn__n_neighbors': 1, 'knn__p': 2}\n",
      "0.950 (+/-0.082) for {'features__chi2_select__k': 1, 'features__pca__n_components': 2, 'knn__n_neighbors': 3, 'knn__p': 1}\n",
      "0.950 (+/-0.111) for {'features__chi2_select__k': 1, 'features__pca__n_components': 2, 'knn__n_neighbors': 3, 'knn__p': 2}\n",
      "0.967 (+/-0.082) for {'features__chi2_select__k': 1, 'features__pca__n_components': 2, 'knn__n_neighbors': 5, 'knn__p': 1}\n",
      "0.975 (+/-0.076) for {'features__chi2_select__k': 1, 'features__pca__n_components': 2, 'knn__n_neighbors': 5, 'knn__p': 2}\n",
      "0.942 (+/-0.150) for {'features__chi2_select__k': 1, 'features__pca__n_components': 3, 'knn__n_neighbors': 1, 'knn__p': 1}\n",
      "0.917 (+/-0.183) for {'features__chi2_select__k': 1, 'features__pca__n_components': 3, 'knn__n_neighbors': 1, 'knn__p': 2}\n",
      "0.950 (+/-0.111) for {'features__chi2_select__k': 1, 'features__pca__n_components': 3, 'knn__n_neighbors': 3, 'knn__p': 1}\n",
      "0.925 (+/-0.241) for {'features__chi2_select__k': 1, 'features__pca__n_components': 3, 'knn__n_neighbors': 3, 'knn__p': 2}\n",
      "0.933 (+/-0.163) for {'features__chi2_select__k': 1, 'features__pca__n_components': 3, 'knn__n_neighbors': 5, 'knn__p': 1}\n",
      "0.908 (+/-0.203) for {'features__chi2_select__k': 1, 'features__pca__n_components': 3, 'knn__n_neighbors': 5, 'knn__p': 2}\n",
      "0.933 (+/-0.125) for {'features__chi2_select__k': 2, 'features__pca__n_components': 1, 'knn__n_neighbors': 1, 'knn__p': 1}\n",
      "0.942 (+/-0.107) for {'features__chi2_select__k': 2, 'features__pca__n_components': 1, 'knn__n_neighbors': 1, 'knn__p': 2}\n",
      "0.942 (+/-0.167) for {'features__chi2_select__k': 2, 'features__pca__n_components': 1, 'knn__n_neighbors': 3, 'knn__p': 1}\n",
      "0.942 (+/-0.167) for {'features__chi2_select__k': 2, 'features__pca__n_components': 1, 'knn__n_neighbors': 3, 'knn__p': 2}\n",
      "0.950 (+/-0.133) for {'features__chi2_select__k': 2, 'features__pca__n_components': 1, 'knn__n_neighbors': 5, 'knn__p': 1}\n",
      "0.958 (+/-0.134) for {'features__chi2_select__k': 2, 'features__pca__n_components': 1, 'knn__n_neighbors': 5, 'knn__p': 2}\n",
      "0.950 (+/-0.133) for {'features__chi2_select__k': 2, 'features__pca__n_components': 2, 'knn__n_neighbors': 1, 'knn__p': 1}\n",
      "0.958 (+/-0.112) for {'features__chi2_select__k': 2, 'features__pca__n_components': 2, 'knn__n_neighbors': 1, 'knn__p': 2}\n",
      "0.950 (+/-0.111) for {'features__chi2_select__k': 2, 'features__pca__n_components': 2, 'knn__n_neighbors': 3, 'knn__p': 1}\n",
      "0.967 (+/-0.111) for {'features__chi2_select__k': 2, 'features__pca__n_components': 2, 'knn__n_neighbors': 3, 'knn__p': 2}\n",
      "0.958 (+/-0.112) for {'features__chi2_select__k': 2, 'features__pca__n_components': 2, 'knn__n_neighbors': 5, 'knn__p': 1}\n",
      "0.983 (+/-0.067) for {'features__chi2_select__k': 2, 'features__pca__n_components': 2, 'knn__n_neighbors': 5, 'knn__p': 2}\n",
      "0.950 (+/-0.133) for {'features__chi2_select__k': 2, 'features__pca__n_components': 3, 'knn__n_neighbors': 1, 'knn__p': 1}\n",
      "0.950 (+/-0.133) for {'features__chi2_select__k': 2, 'features__pca__n_components': 3, 'knn__n_neighbors': 1, 'knn__p': 2}\n",
      "0.942 (+/-0.150) for {'features__chi2_select__k': 2, 'features__pca__n_components': 3, 'knn__n_neighbors': 3, 'knn__p': 1}\n",
      "0.950 (+/-0.153) for {'features__chi2_select__k': 2, 'features__pca__n_components': 3, 'knn__n_neighbors': 3, 'knn__p': 2}\n",
      "0.950 (+/-0.111) for {'features__chi2_select__k': 2, 'features__pca__n_components': 3, 'knn__n_neighbors': 5, 'knn__p': 1}\n",
      "0.925 (+/-0.157) for {'features__chi2_select__k': 2, 'features__pca__n_components': 3, 'knn__n_neighbors': 5, 'knn__p': 2}\n",
      "best CV_score: 0.983   best parameter: {'features__chi2_select__k': 2, 'features__pca__n_components': 2, 'knn__n_neighbors': 5, 'knn__p': 2}\n"
     ]
    }
   ],
   "source": [
    "# # # 输出训练结果\n",
    "means = clf.cv_results_['mean_test_score']\n",
    "stds = clf.cv_results_['std_test_score']\n",
    "\n",
    "for mean, std, params in zip(means, stds, clf.cv_results_['params']):\n",
    "    print(\"%0.3f (+/-%0.03f) for %r\" % (mean, std * 2, params))\n",
    "\n",
    "print(\"best CV_score: %0.3f   best parameter: %r\" % (clf.best_score_, clf.best_params_))"
   ]
  },
  {
   "cell_type": "code",
   "execution_count": 7,
   "metadata": {
    "scrolled": false
   },
   "outputs": [
    {
     "name": "stdout",
     "output_type": "stream",
     "text": [
      "test score: 1.0\n"
     ]
    }
   ],
   "source": [
    "# # # 用训练好的模型对测试集进行测试\n",
    "score = clf.score(X_test,y_test)\n",
    "\n",
    "print(\"test score:\",score)"
   ]
  }
 ],
 "metadata": {
  "kernelspec": {
   "display_name": "Python 3",
   "language": "python",
   "name": "python3"
  },
  "language_info": {
   "codemirror_mode": {
    "name": "ipython",
    "version": 3
   },
   "file_extension": ".py",
   "mimetype": "text/x-python",
   "name": "python",
   "nbconvert_exporter": "python",
   "pygments_lexer": "ipython3",
   "version": "3.6.5"
  }
 },
 "nbformat": 4,
 "nbformat_minor": 2
}
